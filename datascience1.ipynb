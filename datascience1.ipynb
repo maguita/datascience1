{
  "nbformat": 4,
  "nbformat_minor": 0,
  "metadata": {
    "colab": {
      "provenance": [],
      "authorship_tag": "ABX9TyN1wX5TICYk4ojqd/dNCSRR",
      "include_colab_link": true
    },
    "kernelspec": {
      "name": "python3",
      "display_name": "Python 3"
    },
    "language_info": {
      "name": "python"
    }
  },
  "cells": [
    {
      "cell_type": "markdown",
      "metadata": {
        "id": "view-in-github",
        "colab_type": "text"
      },
      "source": [
        "<a href=\"https://colab.research.google.com/github/maguita/datascience1/blob/master/datascience1.ipynb\" target=\"_parent\"><img src=\"https://colab.research.google.com/assets/colab-badge.svg\" alt=\"Open In Colab\"/></a>"
      ]
    },
    {
      "cell_type": "code",
      "execution_count": null,
      "metadata": {
        "colab": {
          "base_uri": "https://localhost:8080/"
        },
        "id": "0bSrQOSzmo7S",
        "outputId": "fa1ce48c-1be0-476a-f2bf-a23ee5be476d"
      },
      "outputs": [
        {
          "output_type": "stream",
          "name": "stdout",
          "text": [
            "Total records 252\n",
            "   Product ID Product Position Promotion Product Category Seasonal  \\\n",
            "0      185102            Aisle        No         Clothing       No   \n",
            "1      188771            Aisle        No         Clothing       No   \n",
            "2      180176          End-cap       Yes         Clothing      Yes   \n",
            "3      112917            Aisle       Yes         Clothing      Yes   \n",
            "\n",
            "   Sales Volume brand                                                url  \\\n",
            "0          2823  Zara  https://www.zara.com/us/en/basic-puffer-jacket...   \n",
            "1           654  Zara  https://www.zara.com/us/en/tuxedo-jacket-p0889...   \n",
            "2          2220  Zara  https://www.zara.com/us/en/slim-fit-suit-jacke...   \n",
            "3          1568  Zara  https://www.zara.com/us/en/stretch-suit-jacket...   \n",
            "\n",
            "                sku                  name  \\\n",
            "0   272145190-250-2   BASIC PUFFER JACKET   \n",
            "1  324052738-800-46         TUXEDO JACKET   \n",
            "2  335342680-800-44  SLIM FIT SUIT JACKET   \n",
            "3  328303236-420-44   STRETCH SUIT JACKET   \n",
            "\n",
            "                                         description   price currency  \\\n",
            "0  Puffer jacket made of tear-resistant ripstop f...   19.99      USD   \n",
            "1  Straight fit blazer. Pointed lapel collar and ...  169.00      USD   \n",
            "2  Slim fit jacket. Notched lapel collar. Long sl...  129.00      USD   \n",
            "3  Slim fit jacket made of viscose blend fabric. ...  129.00      USD   \n",
            "\n",
            "                   scraped_at    terms section  \n",
            "0  2024-02-19T08:50:05.654618  jackets     MAN  \n",
            "1  2024-02-19T08:50:06.590930  jackets     MAN  \n",
            "2  2024-02-19T08:50:07.301419  jackets     MAN  \n",
            "3  2024-02-19T08:50:07.882922  jackets     MAN  \n"
          ]
        }
      ],
      "source": [
        "import pandas as pd\n",
        "url_csv = \"https://raw.githubusercontent.com/maguita/datascience1/master/zara.csv\"\n",
        "df_url = pd.read_csv(url_csv, sep = \";\")\n",
        "records_count=len(df_url)\n",
        "## get records count\n",
        "print(f\"Total records {records_count}\")\n",
        "## print records count\n",
        "print(df_url.head(4))"
      ]
    }
  ]
}